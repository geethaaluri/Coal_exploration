{
 "cells": [
  {
   "cell_type": "markdown",
   "metadata": {},
   "source": [
    "# Make a prediction about the coal prediction"
   ]
  },
  {
   "cell_type": "code",
   "execution_count": 1,
   "metadata": {
    "ExecuteTime": {
     "end_time": "2019-07-30T18:41:35.969202Z",
     "start_time": "2019-07-30T18:41:35.349435Z"
    }
   },
   "outputs": [],
   "source": [
    "%matplotlib inline\n",
    "import numpy as np\n",
    "import matplotlib.pyplot as plt\n",
    "import pandas as pd\n",
    "import seaborn as sns\n",
    "sns.set();"
   ]
  },
  {
   "cell_type": "code",
   "execution_count": 2,
   "metadata": {
    "ExecuteTime": {
     "end_time": "2019-07-30T18:42:10.875281Z",
     "start_time": "2019-07-30T18:42:10.847324Z"
    }
   },
   "outputs": [
    {
     "data": {
      "text/html": [
       "<div>\n",
       "<style scoped>\n",
       "    .dataframe tbody tr th:only-of-type {\n",
       "        vertical-align: middle;\n",
       "    }\n",
       "\n",
       "    .dataframe tbody tr th {\n",
       "        vertical-align: top;\n",
       "    }\n",
       "\n",
       "    .dataframe thead th {\n",
       "        text-align: right;\n",
       "    }\n",
       "</style>\n",
       "<table border=\"1\" class=\"dataframe\">\n",
       "  <thead>\n",
       "    <tr style=\"text-align: right;\">\n",
       "      <th></th>\n",
       "      <th>Year</th>\n",
       "      <th>Mine_Name</th>\n",
       "      <th>Mine_State</th>\n",
       "      <th>Mine_County</th>\n",
       "      <th>Mine_Basin</th>\n",
       "      <th>Mine_Status</th>\n",
       "      <th>Mine_Type</th>\n",
       "      <th>Company_Type</th>\n",
       "      <th>Operation_Type</th>\n",
       "      <th>Operating_Company</th>\n",
       "      <th>Operating_Company_Address</th>\n",
       "      <th>Union_Code</th>\n",
       "      <th>Production_(short_tons)</th>\n",
       "      <th>Average_Employees</th>\n",
       "      <th>Labor_Hours</th>\n",
       "      <th>log_production</th>\n",
       "    </tr>\n",
       "    <tr>\n",
       "      <th>MSHA ID</th>\n",
       "      <th></th>\n",
       "      <th></th>\n",
       "      <th></th>\n",
       "      <th></th>\n",
       "      <th></th>\n",
       "      <th></th>\n",
       "      <th></th>\n",
       "      <th></th>\n",
       "      <th></th>\n",
       "      <th></th>\n",
       "      <th></th>\n",
       "      <th></th>\n",
       "      <th></th>\n",
       "      <th></th>\n",
       "      <th></th>\n",
       "      <th></th>\n",
       "    </tr>\n",
       "  </thead>\n",
       "  <tbody>\n",
       "    <tr>\n",
       "      <th>103335</th>\n",
       "      <td>2010</td>\n",
       "      <td>Thompson South Mine</td>\n",
       "      <td>Alabama</td>\n",
       "      <td>Bibb</td>\n",
       "      <td>Appalachia Southern</td>\n",
       "      <td>Active</td>\n",
       "      <td>Surface</td>\n",
       "      <td>Independent Producer Operator</td>\n",
       "      <td>Mine only</td>\n",
       "      <td>M&amp;b Excavating Co., Inc., Llc</td>\n",
       "      <td>1001 Heflin Avenue West, Birmingham, AL 35214</td>\n",
       "      <td>NaN</td>\n",
       "      <td>103</td>\n",
       "      <td>1</td>\n",
       "      <td>30</td>\n",
       "      <td>4.634729</td>\n",
       "    </tr>\n",
       "    <tr>\n",
       "      <th>103381</th>\n",
       "      <td>2010</td>\n",
       "      <td>Tacoa Highwall Miner</td>\n",
       "      <td>Alabama</td>\n",
       "      <td>Bibb</td>\n",
       "      <td>Appalachia Southern</td>\n",
       "      <td>Active</td>\n",
       "      <td>Surface</td>\n",
       "      <td>Independent Producer Operator</td>\n",
       "      <td>Mine only</td>\n",
       "      <td>Tacoa Minerals,llc</td>\n",
       "      <td>1669 Mission Hills Road, Alabaster, AL 35007</td>\n",
       "      <td>NaN</td>\n",
       "      <td>127564</td>\n",
       "      <td>13</td>\n",
       "      <td>33241</td>\n",
       "      <td>11.756373</td>\n",
       "    </tr>\n",
       "    <tr>\n",
       "      <th>103404</th>\n",
       "      <td>2010</td>\n",
       "      <td>Reid School Mine</td>\n",
       "      <td>Alabama</td>\n",
       "      <td>Blount</td>\n",
       "      <td>Appalachia Southern</td>\n",
       "      <td>Active</td>\n",
       "      <td>Surface</td>\n",
       "      <td>Independent Producer Operator</td>\n",
       "      <td>Mine only</td>\n",
       "      <td>Taft Coal Sales &amp; Associates,</td>\n",
       "      <td>107 N. Walston Bridge Road, Jasper, AL 35504</td>\n",
       "      <td>NaN</td>\n",
       "      <td>148994</td>\n",
       "      <td>32</td>\n",
       "      <td>76025</td>\n",
       "      <td>11.911661</td>\n",
       "    </tr>\n",
       "    <tr>\n",
       "      <th>103117</th>\n",
       "      <td>2010</td>\n",
       "      <td>Mine #2, #3, #4</td>\n",
       "      <td>Alabama</td>\n",
       "      <td>Cullman</td>\n",
       "      <td>Appalachia Southern</td>\n",
       "      <td>Temporarily closed</td>\n",
       "      <td>Surface</td>\n",
       "      <td>Operating Subsidiary</td>\n",
       "      <td>Mine only</td>\n",
       "      <td>Evergreen Mining, Llc</td>\n",
       "      <td>74 Indutrial Parkway, Jasper, AL 35001</td>\n",
       "      <td>NaN</td>\n",
       "      <td>69035</td>\n",
       "      <td>17</td>\n",
       "      <td>34365</td>\n",
       "      <td>11.142369</td>\n",
       "    </tr>\n",
       "    <tr>\n",
       "      <th>100759</th>\n",
       "      <td>2010</td>\n",
       "      <td>North River #1 Underground Min</td>\n",
       "      <td>Alabama</td>\n",
       "      <td>Fayette</td>\n",
       "      <td>Appalachia Southern</td>\n",
       "      <td>Active</td>\n",
       "      <td>Underground</td>\n",
       "      <td>Operating Subsidiary</td>\n",
       "      <td>Mine and Preparation Plant</td>\n",
       "      <td>Chevron Mining Inc</td>\n",
       "      <td>3114 County Road 63 S, Berry, AL 35546</td>\n",
       "      <td>United Mine Workers of America</td>\n",
       "      <td>3037170</td>\n",
       "      <td>372</td>\n",
       "      <td>816059</td>\n",
       "      <td>14.926437</td>\n",
       "    </tr>\n",
       "  </tbody>\n",
       "</table>\n",
       "</div>"
      ],
      "text/plain": [
       "         Year                       Mine_Name Mine_State Mine_County  \\\n",
       "MSHA ID                                                                \n",
       "103335   2010             Thompson South Mine    Alabama        Bibb   \n",
       "103381   2010            Tacoa Highwall Miner    Alabama        Bibb   \n",
       "103404   2010                Reid School Mine    Alabama      Blount   \n",
       "103117   2010                 Mine #2, #3, #4    Alabama     Cullman   \n",
       "100759   2010  North River #1 Underground Min    Alabama     Fayette   \n",
       "\n",
       "                  Mine_Basin         Mine_Status    Mine_Type  \\\n",
       "MSHA ID                                                         \n",
       "103335   Appalachia Southern              Active      Surface   \n",
       "103381   Appalachia Southern              Active      Surface   \n",
       "103404   Appalachia Southern              Active      Surface   \n",
       "103117   Appalachia Southern  Temporarily closed      Surface   \n",
       "100759   Appalachia Southern              Active  Underground   \n",
       "\n",
       "                          Company_Type              Operation_Type  \\\n",
       "MSHA ID                                                              \n",
       "103335   Independent Producer Operator                   Mine only   \n",
       "103381   Independent Producer Operator                   Mine only   \n",
       "103404   Independent Producer Operator                   Mine only   \n",
       "103117            Operating Subsidiary                   Mine only   \n",
       "100759            Operating Subsidiary  Mine and Preparation Plant   \n",
       "\n",
       "                     Operating_Company  \\\n",
       "MSHA ID                                  \n",
       "103335   M&b Excavating Co., Inc., Llc   \n",
       "103381              Tacoa Minerals,llc   \n",
       "103404   Taft Coal Sales & Associates,   \n",
       "103117           Evergreen Mining, Llc   \n",
       "100759              Chevron Mining Inc   \n",
       "\n",
       "                             Operating_Company_Address  \\\n",
       "MSHA ID                                                  \n",
       "103335   1001 Heflin Avenue West, Birmingham, AL 35214   \n",
       "103381    1669 Mission Hills Road, Alabaster, AL 35007   \n",
       "103404    107 N. Walston Bridge Road, Jasper, AL 35504   \n",
       "103117          74 Indutrial Parkway, Jasper, AL 35001   \n",
       "100759          3114 County Road 63 S, Berry, AL 35546   \n",
       "\n",
       "                             Union_Code  Production_(short_tons)  \\\n",
       "MSHA ID                                                            \n",
       "103335                              NaN                      103   \n",
       "103381                              NaN                   127564   \n",
       "103404                              NaN                   148994   \n",
       "103117                              NaN                    69035   \n",
       "100759   United Mine Workers of America                  3037170   \n",
       "\n",
       "         Average_Employees  Labor_Hours  log_production  \n",
       "MSHA ID                                                  \n",
       "103335                   1           30        4.634729  \n",
       "103381                  13        33241       11.756373  \n",
       "103404                  32        76025       11.911661  \n",
       "103117                  17        34365       11.142369  \n",
       "100759                 372       816059       14.926437  "
      ]
     },
     "execution_count": 2,
     "metadata": {},
     "output_type": "execute_result"
    }
   ],
   "source": [
    "df = pd.read_csv('../data/cleaned_coalpublic2010.csv', index_col='MSHA ID')\n",
    "df.head()"
   ]
  },
  {
   "cell_type": "code",
   "execution_count": 3,
   "metadata": {
    "ExecuteTime": {
     "end_time": "2019-07-30T18:43:03.567193Z",
     "start_time": "2019-07-30T18:43:03.563203Z"
    }
   },
   "outputs": [
    {
     "data": {
      "text/plain": [
       "1285"
      ]
     },
     "execution_count": 3,
     "metadata": {},
     "output_type": "execute_result"
    }
   ],
   "source": [
    "len(df)"
   ]
  },
  {
   "cell_type": "code",
   "execution_count": 4,
   "metadata": {
    "ExecuteTime": {
     "end_time": "2019-07-30T18:43:18.686645Z",
     "start_time": "2019-07-30T18:43:18.682656Z"
    }
   },
   "outputs": [
    {
     "name": "stdout",
     "output_type": "stream",
     "text": [
      "Year\n",
      "Mine_Name\n",
      "Mine_State\n",
      "Mine_County\n",
      "Mine_Basin\n",
      "Mine_Status\n",
      "Mine_Type\n",
      "Company_Type\n",
      "Operation_Type\n",
      "Operating_Company\n",
      "Operating_Company_Address\n",
      "Union_Code\n",
      "Production_(short_tons)\n",
      "Average_Employees\n",
      "Labor_Hours\n",
      "log_production\n"
     ]
    }
   ],
   "source": [
    "for col in df.columns:\n",
    "    print (col)"
   ]
  },
  {
   "cell_type": "code",
   "execution_count": 5,
   "metadata": {
    "ExecuteTime": {
     "end_time": "2019-07-30T18:43:37.176110Z",
     "start_time": "2019-07-30T18:43:37.076323Z"
    }
   },
   "outputs": [
    {
     "data": {
      "text/plain": [
       "<matplotlib.axes._subplots.AxesSubplot at 0x23f345c8d30>"
      ]
     },
     "execution_count": 5,
     "metadata": {},
     "output_type": "execute_result"
    },
    {
     "data": {
      "image/png": "[encoded data removed]",
      "text/plain": [
       "<Figure size 432x288 with 1 Axes>"
      ]
     },
     "metadata": {
      "needs_background": "light"
     },
     "output_type": "display_data"
    }
   ],
   "source": [
    "df.log_production.hist()"
   ]
  },
  {
   "cell_type": "code",
   "execution_count": 6,
   "metadata": {
    "ExecuteTime": {
     "end_time": "2019-07-30T18:44:00.827797Z",
     "start_time": "2019-07-30T18:44:00.822811Z"
    }
   },
   "outputs": [
    {
     "data": {
      "text/plain": [
       "array(['Active', 'Temporarily closed',\n",
       "       'Active, men working, not producing', 'Permanently abandoned'],\n",
       "      dtype=object)"
      ]
     },
     "execution_count": 6,
     "metadata": {},
     "output_type": "execute_result"
    }
   ],
   "source": [
    "df.Mine_Status.unique()"
   ]
  },
  {
   "cell_type": "code",
   "execution_count": 9,
   "metadata": {
    "ExecuteTime": {
     "end_time": "2019-07-30T18:46:53.482749Z",
     "start_time": "2019-07-30T18:46:53.473773Z"
    }
   },
   "outputs": [
    {
     "data": {
      "text/html": [
       "<div>\n",
       "<style scoped>\n",
       "    .dataframe tbody tr th:only-of-type {\n",
       "        vertical-align: middle;\n",
       "    }\n",
       "\n",
       "    .dataframe tbody tr th {\n",
       "        vertical-align: top;\n",
       "    }\n",
       "\n",
       "    .dataframe thead th {\n",
       "        text-align: right;\n",
       "    }\n",
       "</style>\n",
       "<table border=\"1\" class=\"dataframe\">\n",
       "  <thead>\n",
       "    <tr style=\"text-align: right;\">\n",
       "      <th></th>\n",
       "      <th>log_production</th>\n",
       "    </tr>\n",
       "    <tr>\n",
       "      <th>Mine_Status</th>\n",
       "      <th></th>\n",
       "    </tr>\n",
       "  </thead>\n",
       "  <tbody>\n",
       "    <tr>\n",
       "      <th>Active</th>\n",
       "      <td>11.777410</td>\n",
       "    </tr>\n",
       "    <tr>\n",
       "      <th>Active, men working, not producing</th>\n",
       "      <td>10.259398</td>\n",
       "    </tr>\n",
       "    <tr>\n",
       "      <th>Permanently abandoned</th>\n",
       "      <td>9.837603</td>\n",
       "    </tr>\n",
       "    <tr>\n",
       "      <th>Temporarily closed</th>\n",
       "      <td>9.304538</td>\n",
       "    </tr>\n",
       "  </tbody>\n",
       "</table>\n",
       "</div>"
      ],
      "text/plain": [
       "                                    log_production\n",
       "Mine_Status                                       \n",
       "Active                                   11.777410\n",
       "Active, men working, not producing       10.259398\n",
       "Permanently abandoned                     9.837603\n",
       "Temporarily closed                        9.304538"
      ]
     },
     "execution_count": 9,
     "metadata": {},
     "output_type": "execute_result"
    }
   ],
   "source": [
    "df[['Mine_Status', 'log_production']].groupby('Mine_Status').mean()"
   ]
  },
  {
   "cell_type": "markdown",
   "metadata": {},
   "source": [
    "# Predict the production of coal mines"
   ]
  },
  {
   "cell_type": "code",
   "execution_count": 10,
   "metadata": {
    "ExecuteTime": {
     "end_time": "2019-07-30T18:54:03.127596Z",
     "start_time": "2019-07-30T18:54:03.124604Z"
    }
   },
   "outputs": [],
   "source": [
    "features = ['Average_Employees',\n",
    "            'Labor_Hours'\n",
    "           ]\n",
    "\n",
    "categoricals = ['Mine_State',\n",
    "                'Mine_County',\n",
    "                'Mine_Status',\n",
    "                'Mine_Type',\n",
    "                'Company_Type',\n",
    "                'Operation_Type',\n",
    "                'Operating_Company',\n",
    "                'Union_Code'\n",
    "           ]\n",
    "\n",
    "target = 'log_production'"
   ]
  },
  {
   "cell_type": "code",
   "execution_count": 11,
   "metadata": {
    "ExecuteTime": {
     "end_time": "2019-07-30T18:58:50.292873Z",
     "start_time": "2019-07-30T18:58:48.330529Z"
    }
   },
   "outputs": [
    {
     "data": {
      "image/png": "[encoded data removed]",
      "text/plain": [
       "<Figure size 1008x576 with 1 Axes>"
      ]
     },
     "metadata": {
      "needs_background": "light"
     },
     "output_type": "display_data"
    }
   ],
   "source": [
    "fig = plt.subplots(figsize=(14, 8))\n",
    "sns.set_context('poster')\n",
    "\n",
    "sns.violinplot(y='Mine_Status',\n",
    "               x='log_production',\n",
    "               data=df,\n",
    "               split=True,\n",
    "               inner='stick')\n",
    "plt.tight_layout()"
   ]
  },
  {
   "cell_type": "code",
   "execution_count": 12,
   "metadata": {
    "ExecuteTime": {
     "end_time": "2019-07-30T18:59:46.591942Z",
     "start_time": "2019-07-30T18:59:44.538326Z"
    }
   },
   "outputs": [
    {
     "data": {
      "image/png": "[encoded data removed]",
      "text/plain": [
       "<Figure size 1008x576 with 1 Axes>"
      ]
     },
     "metadata": {
      "needs_background": "light"
     },
     "output_type": "display_data"
    }
   ],
   "source": [
    "fig = plt.subplots(figsize=(14, 8))\n",
    "sns.set_context('poster')\n",
    "\n",
    "sns.violinplot(y='Company_Type',\n",
    "               x='log_production',\n",
    "               data=df,\n",
    "               split=True,\n",
    "               inner='stick')\n",
    "plt.tight_layout()"
   ]
  },
  {
   "cell_type": "code",
   "execution_count": 13,
   "metadata": {
    "ExecuteTime": {
     "end_time": "2019-07-31T05:31:50.271502Z",
     "start_time": "2019-07-31T05:31:50.225652Z"
    }
   },
   "outputs": [
    {
     "data": {
      "text/html": [
       "<div>\n",
       "<style scoped>\n",
       "    .dataframe tbody tr th:only-of-type {\n",
       "        vertical-align: middle;\n",
       "    }\n",
       "\n",
       "    .dataframe tbody tr th {\n",
       "        vertical-align: top;\n",
       "    }\n",
       "\n",
       "    .dataframe thead th {\n",
       "        text-align: right;\n",
       "    }\n",
       "</style>\n",
       "<table border=\"1\" class=\"dataframe\">\n",
       "  <thead>\n",
       "    <tr style=\"text-align: right;\">\n",
       "      <th></th>\n",
       "      <th>Mine_State_Alabama</th>\n",
       "      <th>Mine_State_Alaska</th>\n",
       "      <th>Mine_State_Arizona</th>\n",
       "      <th>Mine_State_Arkansas</th>\n",
       "      <th>Mine_State_Colorado</th>\n",
       "      <th>Mine_State_Illinois</th>\n",
       "      <th>Mine_State_Indiana</th>\n",
       "      <th>Mine_State_Kansas</th>\n",
       "      <th>Mine_State_Kentucky (East)</th>\n",
       "      <th>Mine_State_Kentucky (West)</th>\n",
       "      <th>...</th>\n",
       "      <th>Operating_Company_Yellow Rose Coal, Llc</th>\n",
       "      <th>Operating_Company_Yeshic, Llc</th>\n",
       "      <th>Operating_Company_Young Mining, Llc</th>\n",
       "      <th>Union_Code_AFCI</th>\n",
       "      <th>Union_Code_International Brotherhood of Electrical Workers</th>\n",
       "      <th>Union_Code_International Union of Operation Engineers</th>\n",
       "      <th>Union_Code_Scotia Employees Association</th>\n",
       "      <th>Union_Code_Teamsters</th>\n",
       "      <th>Union_Code_United Mine Workers of America</th>\n",
       "      <th>Union_Code_Western Energy Workers</th>\n",
       "    </tr>\n",
       "    <tr>\n",
       "      <th>MSHA ID</th>\n",
       "      <th></th>\n",
       "      <th></th>\n",
       "      <th></th>\n",
       "      <th></th>\n",
       "      <th></th>\n",
       "      <th></th>\n",
       "      <th></th>\n",
       "      <th></th>\n",
       "      <th></th>\n",
       "      <th></th>\n",
       "      <th></th>\n",
       "      <th></th>\n",
       "      <th></th>\n",
       "      <th></th>\n",
       "      <th></th>\n",
       "      <th></th>\n",
       "      <th></th>\n",
       "      <th></th>\n",
       "      <th></th>\n",
       "      <th></th>\n",
       "      <th></th>\n",
       "    </tr>\n",
       "  </thead>\n",
       "  <tbody>\n",
       "    <tr>\n",
       "      <th>103335</th>\n",
       "      <td>1</td>\n",
       "      <td>0</td>\n",
       "      <td>0</td>\n",
       "      <td>0</td>\n",
       "      <td>0</td>\n",
       "      <td>0</td>\n",
       "      <td>0</td>\n",
       "      <td>0</td>\n",
       "      <td>0</td>\n",
       "      <td>0</td>\n",
       "      <td>...</td>\n",
       "      <td>0</td>\n",
       "      <td>0</td>\n",
       "      <td>0</td>\n",
       "      <td>0</td>\n",
       "      <td>0</td>\n",
       "      <td>0</td>\n",
       "      <td>0</td>\n",
       "      <td>0</td>\n",
       "      <td>0</td>\n",
       "      <td>0</td>\n",
       "    </tr>\n",
       "    <tr>\n",
       "      <th>103381</th>\n",
       "      <td>1</td>\n",
       "      <td>0</td>\n",
       "      <td>0</td>\n",
       "      <td>0</td>\n",
       "      <td>0</td>\n",
       "      <td>0</td>\n",
       "      <td>0</td>\n",
       "      <td>0</td>\n",
       "      <td>0</td>\n",
       "      <td>0</td>\n",
       "      <td>...</td>\n",
       "      <td>0</td>\n",
       "      <td>0</td>\n",
       "      <td>0</td>\n",
       "      <td>0</td>\n",
       "      <td>0</td>\n",
       "      <td>0</td>\n",
       "      <td>0</td>\n",
       "      <td>0</td>\n",
       "      <td>0</td>\n",
       "      <td>0</td>\n",
       "    </tr>\n",
       "    <tr>\n",
       "      <th>103404</th>\n",
       "      <td>1</td>\n",
       "      <td>0</td>\n",
       "      <td>0</td>\n",
       "      <td>0</td>\n",
       "      <td>0</td>\n",
       "      <td>0</td>\n",
       "      <td>0</td>\n",
       "      <td>0</td>\n",
       "      <td>0</td>\n",
       "      <td>0</td>\n",
       "      <td>...</td>\n",
       "      <td>0</td>\n",
       "      <td>0</td>\n",
       "      <td>0</td>\n",
       "      <td>0</td>\n",
       "      <td>0</td>\n",
       "      <td>0</td>\n",
       "      <td>0</td>\n",
       "      <td>0</td>\n",
       "      <td>0</td>\n",
       "      <td>0</td>\n",
       "    </tr>\n",
       "    <tr>\n",
       "      <th>103117</th>\n",
       "      <td>1</td>\n",
       "      <td>0</td>\n",
       "      <td>0</td>\n",
       "      <td>0</td>\n",
       "      <td>0</td>\n",
       "      <td>0</td>\n",
       "      <td>0</td>\n",
       "      <td>0</td>\n",
       "      <td>0</td>\n",
       "      <td>0</td>\n",
       "      <td>...</td>\n",
       "      <td>0</td>\n",
       "      <td>0</td>\n",
       "      <td>0</td>\n",
       "      <td>0</td>\n",
       "      <td>0</td>\n",
       "      <td>0</td>\n",
       "      <td>0</td>\n",
       "      <td>0</td>\n",
       "      <td>0</td>\n",
       "      <td>0</td>\n",
       "    </tr>\n",
       "    <tr>\n",
       "      <th>100759</th>\n",
       "      <td>1</td>\n",
       "      <td>0</td>\n",
       "      <td>0</td>\n",
       "      <td>0</td>\n",
       "      <td>0</td>\n",
       "      <td>0</td>\n",
       "      <td>0</td>\n",
       "      <td>0</td>\n",
       "      <td>0</td>\n",
       "      <td>0</td>\n",
       "      <td>...</td>\n",
       "      <td>0</td>\n",
       "      <td>0</td>\n",
       "      <td>0</td>\n",
       "      <td>0</td>\n",
       "      <td>0</td>\n",
       "      <td>0</td>\n",
       "      <td>0</td>\n",
       "      <td>0</td>\n",
       "      <td>1</td>\n",
       "      <td>0</td>\n",
       "    </tr>\n",
       "  </tbody>\n",
       "</table>\n",
       "<p>5 rows × 1072 columns</p>\n",
       "</div>"
      ],
      "text/plain": [
       "         Mine_State_Alabama  Mine_State_Alaska  Mine_State_Arizona  \\\n",
       "MSHA ID                                                              \n",
       "103335                    1                  0                   0   \n",
       "103381                    1                  0                   0   \n",
       "103404                    1                  0                   0   \n",
       "103117                    1                  0                   0   \n",
       "100759                    1                  0                   0   \n",
       "\n",
       "         Mine_State_Arkansas  Mine_State_Colorado  Mine_State_Illinois  \\\n",
       "MSHA ID                                                                  \n",
       "103335                     0                    0                    0   \n",
       "103381                     0                    0                    0   \n",
       "103404                     0                    0                    0   \n",
       "103117                     0                    0                    0   \n",
       "100759                     0                    0                    0   \n",
       "\n",
       "         Mine_State_Indiana  Mine_State_Kansas  Mine_State_Kentucky (East)  \\\n",
       "MSHA ID                                                                      \n",
       "103335                    0                  0                           0   \n",
       "103381                    0                  0                           0   \n",
       "103404                    0                  0                           0   \n",
       "103117                    0                  0                           0   \n",
       "100759                    0                  0                           0   \n",
       "\n",
       "         Mine_State_Kentucky (West)  ...  \\\n",
       "MSHA ID                              ...   \n",
       "103335                            0  ...   \n",
       "103381                            0  ...   \n",
       "103404                            0  ...   \n",
       "103117                            0  ...   \n",
       "100759                            0  ...   \n",
       "\n",
       "         Operating_Company_Yellow Rose Coal, Llc  \\\n",
       "MSHA ID                                            \n",
       "103335                                         0   \n",
       "103381                                         0   \n",
       "103404                                         0   \n",
       "103117                                         0   \n",
       "100759                                         0   \n",
       "\n",
       "         Operating_Company_Yeshic, Llc  Operating_Company_Young Mining, Llc  \\\n",
       "MSHA ID                                                                       \n",
       "103335                               0                                    0   \n",
       "103381                               0                                    0   \n",
       "103404                               0                                    0   \n",
       "103117                               0                                    0   \n",
       "100759                               0                                    0   \n",
       "\n",
       "         Union_Code_AFCI  \\\n",
       "MSHA ID                    \n",
       "103335                 0   \n",
       "103381                 0   \n",
       "103404                 0   \n",
       "103117                 0   \n",
       "100759                 0   \n",
       "\n",
       "         Union_Code_International Brotherhood of Electrical Workers  \\\n",
       "MSHA ID                                                               \n",
       "103335                                                   0            \n",
       "103381                                                   0            \n",
       "103404                                                   0            \n",
       "103117                                                   0            \n",
       "100759                                                   0            \n",
       "\n",
       "         Union_Code_International Union of Operation Engineers  \\\n",
       "MSHA ID                                                          \n",
       "103335                                                   0       \n",
       "103381                                                   0       \n",
       "103404                                                   0       \n",
       "103117                                                   0       \n",
       "100759                                                   0       \n",
       "\n",
       "         Union_Code_Scotia Employees Association  Union_Code_Teamsters  \\\n",
       "MSHA ID                                                                  \n",
       "103335                                         0                     0   \n",
       "103381                                         0                     0   \n",
       "103404                                         0                     0   \n",
       "103117                                         0                     0   \n",
       "100759                                         0                     0   \n",
       "\n",
       "         Union_Code_United Mine Workers of America  \\\n",
       "MSHA ID                                              \n",
       "103335                                           0   \n",
       "103381                                           0   \n",
       "103404                                           0   \n",
       "103117                                           0   \n",
       "100759                                           1   \n",
       "\n",
       "         Union_Code_Western Energy Workers  \n",
       "MSHA ID                                     \n",
       "103335                                   0  \n",
       "103381                                   0  \n",
       "103404                                   0  \n",
       "103117                                   0  \n",
       "100759                                   0  \n",
       "\n",
       "[5 rows x 1072 columns]"
      ]
     },
     "execution_count": 13,
     "metadata": {},
     "output_type": "execute_result"
    }
   ],
   "source": [
    "pd.get_dummies(df[categoricals]).head()"
   ]
  },
  {
   "cell_type": "code",
   "execution_count": 14,
   "metadata": {
    "ExecuteTime": {
     "end_time": "2019-07-31T05:38:37.029482Z",
     "start_time": "2019-07-31T05:38:36.988563Z"
    }
   },
   "outputs": [
    {
     "name": "stdout",
     "output_type": "stream",
     "text": [
      "Mine_State 29\n",
      "Mine_County 169\n",
      "Mine_Status 4\n",
      "Mine_Type 3\n",
      "Company_Type 3\n",
      "Operation_Type 3\n",
      "Operating_Company 854\n",
      "Union_Code 8\n"
     ]
    },
    {
     "ename": "TypeError",
     "evalue": "'<' not supported between instances of 'str' and 'float'",
     "output_type": "error",
     "traceback": [
      "\u001b[1;31m---------------------------------------------------------------------------\u001b[0m",
      "\u001b[1;31mTypeError\u001b[0m                                 Traceback (most recent call last)",
      "\u001b[1;32m<ipython-input-14-1bf71b8aa85d>\u001b[0m in \u001b[0;36m<module>\u001b[1;34m\u001b[0m\n\u001b[0;32m      2\u001b[0m \u001b[1;32mfor\u001b[0m \u001b[0mcategorical\u001b[0m \u001b[1;32min\u001b[0m \u001b[0mcategoricals\u001b[0m\u001b[1;33m:\u001b[0m\u001b[1;33m\u001b[0m\u001b[1;33m\u001b[0m\u001b[0m\n\u001b[0;32m      3\u001b[0m     \u001b[0mprint\u001b[0m \u001b[1;33m(\u001b[0m\u001b[0mcategorical\u001b[0m\u001b[1;33m,\u001b[0m \u001b[0mlen\u001b[0m\u001b[1;33m(\u001b[0m\u001b[0mdf\u001b[0m\u001b[1;33m[\u001b[0m\u001b[0mcategorical\u001b[0m\u001b[1;33m]\u001b[0m\u001b[1;33m.\u001b[0m\u001b[0munique\u001b[0m\u001b[1;33m(\u001b[0m\u001b[1;33m)\u001b[0m\u001b[1;33m)\u001b[0m\u001b[1;33m)\u001b[0m\u001b[1;33m\u001b[0m\u001b[1;33m\u001b[0m\u001b[0m\n\u001b[1;32m----> 4\u001b[1;33m     \u001b[0mdrop_var\u001b[0m \u001b[1;33m=\u001b[0m\u001b[0msorted\u001b[0m\u001b[1;33m(\u001b[0m\u001b[0mdf\u001b[0m\u001b[1;33m[\u001b[0m\u001b[0mcategorical\u001b[0m\u001b[1;33m]\u001b[0m\u001b[1;33m.\u001b[0m\u001b[0munique\u001b[0m\u001b[1;33m(\u001b[0m\u001b[1;33m)\u001b[0m\u001b[1;33m)\u001b[0m\u001b[1;33m[\u001b[0m\u001b[1;33m-\u001b[0m\u001b[1;36m1\u001b[0m\u001b[1;33m]\u001b[0m\u001b[1;33m\u001b[0m\u001b[1;33m\u001b[0m\u001b[0m\n\u001b[0m\u001b[0;32m      5\u001b[0m     \u001b[0mtemp_df\u001b[0m \u001b[1;33m=\u001b[0m \u001b[0mpd\u001b[0m\u001b[1;33m.\u001b[0m\u001b[0mget_dummies\u001b[0m\u001b[1;33m(\u001b[0m\u001b[0mdf\u001b[0m\u001b[1;33m[\u001b[0m\u001b[0mcategorical\u001b[0m\u001b[1;33m]\u001b[0m\u001b[1;33m,\u001b[0m \u001b[0mprefix\u001b[0m \u001b[1;33m=\u001b[0m \u001b[0mcategorical\u001b[0m\u001b[1;33m)\u001b[0m\u001b[1;33m\u001b[0m\u001b[1;33m\u001b[0m\u001b[0m\n\u001b[0;32m      6\u001b[0m     \u001b[0mdf\u001b[0m \u001b[1;33m=\u001b[0m \u001b[0mpd\u001b[0m\u001b[1;33m.\u001b[0m\u001b[0mconcat\u001b[0m\u001b[1;33m(\u001b[0m\u001b[1;33m[\u001b[0m\u001b[0mdf\u001b[0m\u001b[1;33m,\u001b[0m\u001b[0mtemp_df\u001b[0m\u001b[1;33m]\u001b[0m\u001b[1;33m,\u001b[0m \u001b[0maxis\u001b[0m\u001b[1;33m=\u001b[0m\u001b[1;36m1\u001b[0m\u001b[1;33m)\u001b[0m\u001b[1;33m\u001b[0m\u001b[1;33m\u001b[0m\u001b[0m\n",
      "\u001b[1;31mTypeError\u001b[0m: '<' not supported between instances of 'str' and 'float'"
     ]
    }
   ],
   "source": [
    "dummy_categoricals = []\n",
    "for categorical in categoricals:\n",
    "    print (categorical, len(df[categorical].unique()))\n",
    "    drop_var =sorted(df[categorical].unique())[-1]\n",
    "    temp_df = pd.get_dummies(df[categorical], prefix = categorical)\n",
    "    df = pd.concat([df,temp_df], axis=1)\n",
    "    temp_df.drop('_'.join([categorical, str(drop_var)]), axis=1, inplace=True)\n",
    "    dummy_categoricals += temp_df.columns.tolist()"
   ]
  },
  {
   "cell_type": "code",
   "execution_count": 15,
   "metadata": {
    "ExecuteTime": {
     "end_time": "2019-07-31T05:41:37.895802Z",
     "start_time": "2019-07-31T05:41:37.891813Z"
    }
   },
   "outputs": [
    {
     "data": {
      "text/plain": [
       "['Mine_State_Alabama',\n",
       " 'Mine_State_Alaska',\n",
       " 'Mine_State_Arizona',\n",
       " 'Mine_State_Arkansas',\n",
       " 'Mine_State_Colorado',\n",
       " 'Mine_State_Illinois',\n",
       " 'Mine_State_Indiana',\n",
       " 'Mine_State_Kansas',\n",
       " 'Mine_State_Kentucky (East)',\n",
       " 'Mine_State_Kentucky (West)']"
      ]
     },
     "execution_count": 15,
     "metadata": {},
     "output_type": "execute_result"
    }
   ],
   "source": [
    "dummy_categoricals[:10]"
   ]
  },
  {
   "cell_type": "markdown",
   "metadata": {},
   "source": [
    "# Build our model"
   ]
  },
  {
   "cell_type": "code",
   "execution_count": 16,
   "metadata": {
    "ExecuteTime": {
     "end_time": "2019-07-31T05:44:04.419084Z",
     "start_time": "2019-07-31T05:44:04.416091Z"
    }
   },
   "outputs": [],
   "source": [
    "from sklearn.model_selection import train_test_split\n",
    "from sklearn.ensemble import RandomForestRegressor"
   ]
  },
  {
   "cell_type": "code",
   "execution_count": 17,
   "metadata": {
    "ExecuteTime": {
     "end_time": "2019-07-31T05:44:12.467052Z",
     "start_time": "2019-07-31T05:44:12.462066Z"
    }
   },
   "outputs": [
    {
     "data": {
      "text/plain": [
       "1058"
      ]
     },
     "execution_count": 17,
     "metadata": {},
     "output_type": "execute_result"
    }
   ],
   "source": [
    "len(dummy_categoricals)"
   ]
  },
  {
   "cell_type": "code",
   "execution_count": 18,
   "metadata": {
    "ExecuteTime": {
     "end_time": "2019-07-31T05:45:50.405005Z",
     "start_time": "2019-07-31T05:45:50.393001Z"
    }
   },
   "outputs": [],
   "source": [
    "train, test = train_test_split(df, test_size=0.3)"
   ]
  },
  {
   "cell_type": "code",
   "execution_count": 19,
   "metadata": {
    "ExecuteTime": {
     "end_time": "2019-07-31T05:46:52.912612Z",
     "start_time": "2019-07-31T05:46:51.566746Z"
    }
   },
   "outputs": [
    {
     "data": {
      "text/plain": [
       "RandomForestRegressor(bootstrap=True, criterion='mse', max_depth=None,\n",
       "                      max_features='auto', max_leaf_nodes=None,\n",
       "                      min_impurity_decrease=0.0, min_impurity_split=None,\n",
       "                      min_samples_leaf=1, min_samples_split=2,\n",
       "                      min_weight_fraction_leaf=0.0, n_estimators=100,\n",
       "                      n_jobs=None, oob_score=True, random_state=None, verbose=0,\n",
       "                      warm_start=False)"
      ]
     },
     "execution_count": 19,
     "metadata": {},
     "output_type": "execute_result"
    }
   ],
   "source": [
    "rf = RandomForestRegressor(n_estimators=100, oob_score=True)\n",
    "rf.fit(train[features + dummy_categoricals], train[target])"
   ]
  },
  {
   "cell_type": "code",
   "execution_count": 20,
   "metadata": {
    "ExecuteTime": {
     "end_time": "2019-07-31T05:51:26.069672Z",
     "start_time": "2019-07-31T05:51:25.800274Z"
    }
   },
   "outputs": [
    {
     "data": {
      "image/png": "[encoded data removed]",
      "text/plain": [
       "<Figure size 576x576 with 1 Axes>"
      ]
     },
     "metadata": {
      "needs_background": "light"
     },
     "output_type": "display_data"
    }
   ],
   "source": [
    "fig = plt.subplots(figsize=(8,8))\n",
    "sns.regplot(test[target], rf.predict(test[features + dummy_categoricals]))\n",
    "plt.xlim(0,22)\n",
    "plt.ylim(0,22)\n",
    "plt.tight_layout()"
   ]
  },
  {
   "cell_type": "code",
   "execution_count": 21,
   "metadata": {
    "ExecuteTime": {
     "end_time": "2019-07-31T05:52:55.655898Z",
     "start_time": "2019-07-31T05:52:55.652906Z"
    }
   },
   "outputs": [],
   "source": [
    "from sklearn.metrics import explained_variance_score, r2_score, mean_squared_error"
   ]
  },
  {
   "cell_type": "code",
   "execution_count": 22,
   "metadata": {
    "ExecuteTime": {
     "end_time": "2019-07-31T05:53:45.336188Z",
     "start_time": "2019-07-31T05:53:45.316241Z"
    }
   },
   "outputs": [
    {
     "data": {
      "text/plain": [
       "0.866673621500531"
      ]
     },
     "execution_count": 22,
     "metadata": {},
     "output_type": "execute_result"
    }
   ],
   "source": [
    "predicted = rf.predict(test[features + dummy_categoricals])\n",
    "r2_score(test[target], predicted)"
   ]
  },
  {
   "cell_type": "code",
   "execution_count": 23,
   "metadata": {
    "ExecuteTime": {
     "end_time": "2019-07-31T05:54:06.623206Z",
     "start_time": "2019-07-31T05:54:06.618220Z"
    }
   },
   "outputs": [
    {
     "data": {
      "text/plain": [
       "0.8674318753160501"
      ]
     },
     "execution_count": 23,
     "metadata": {},
     "output_type": "execute_result"
    }
   ],
   "source": [
    "explained_variance_score(test[target], predicted)"
   ]
  },
  {
   "cell_type": "code",
   "execution_count": 24,
   "metadata": {
    "ExecuteTime": {
     "end_time": "2019-07-31T05:54:24.941893Z",
     "start_time": "2019-07-31T05:54:24.938883Z"
    }
   },
   "outputs": [
    {
     "data": {
      "text/plain": [
       "0.5373527099701577"
      ]
     },
     "execution_count": 24,
     "metadata": {},
     "output_type": "execute_result"
    }
   ],
   "source": [
    "mean_squared_error(test[target], predicted)"
   ]
  },
  {
   "cell_type": "code",
   "execution_count": 26,
   "metadata": {
    "ExecuteTime": {
     "end_time": "2019-07-31T06:04:19.160081Z",
     "start_time": "2019-07-31T06:04:19.145154Z"
    }
   },
   "outputs": [
    {
     "data": {
      "text/html": [
       "<div>\n",
       "<style scoped>\n",
       "    .dataframe tbody tr th:only-of-type {\n",
       "        vertical-align: middle;\n",
       "    }\n",
       "\n",
       "    .dataframe tbody tr th {\n",
       "        vertical-align: top;\n",
       "    }\n",
       "\n",
       "    .dataframe thead th {\n",
       "        text-align: right;\n",
       "    }\n",
       "</style>\n",
       "<table border=\"1\" class=\"dataframe\">\n",
       "  <thead>\n",
       "    <tr style=\"text-align: right;\">\n",
       "      <th></th>\n",
       "      <th>name</th>\n",
       "      <th>importance</th>\n",
       "    </tr>\n",
       "  </thead>\n",
       "  <tbody>\n",
       "    <tr>\n",
       "      <th>0</th>\n",
       "      <td>Labor_Hours</td>\n",
       "      <td>0.782168</td>\n",
       "    </tr>\n",
       "    <tr>\n",
       "      <th>1</th>\n",
       "      <td>Average_Employees</td>\n",
       "      <td>0.100436</td>\n",
       "    </tr>\n",
       "    <tr>\n",
       "      <th>2</th>\n",
       "      <td>Mine_County_Campbell</td>\n",
       "      <td>0.009889</td>\n",
       "    </tr>\n",
       "    <tr>\n",
       "      <th>3</th>\n",
       "      <td>Mine_Type_Surface</td>\n",
       "      <td>0.007389</td>\n",
       "    </tr>\n",
       "    <tr>\n",
       "      <th>4</th>\n",
       "      <td>Company_Type_Independent Producer Operator</td>\n",
       "      <td>0.003746</td>\n",
       "    </tr>\n",
       "    <tr>\n",
       "      <th>5</th>\n",
       "      <td>Operating_Company_Resources Limited, Llc</td>\n",
       "      <td>0.002745</td>\n",
       "    </tr>\n",
       "    <tr>\n",
       "      <th>6</th>\n",
       "      <td>Mine_State_Refuse Recovery</td>\n",
       "      <td>0.002719</td>\n",
       "    </tr>\n",
       "    <tr>\n",
       "      <th>7</th>\n",
       "      <td>Operating_Company_Consol Of Kentucky Inc</td>\n",
       "      <td>0.002641</td>\n",
       "    </tr>\n",
       "    <tr>\n",
       "      <th>8</th>\n",
       "      <td>Mine_County_Mingo</td>\n",
       "      <td>0.002248</td>\n",
       "    </tr>\n",
       "    <tr>\n",
       "      <th>9</th>\n",
       "      <td>Mine_Status_Active, men working, not producing</td>\n",
       "      <td>0.002247</td>\n",
       "    </tr>\n",
       "    <tr>\n",
       "      <th>10</th>\n",
       "      <td>Operating_Company_Evans Coal Corp.</td>\n",
       "      <td>0.002175</td>\n",
       "    </tr>\n",
       "    <tr>\n",
       "      <th>11</th>\n",
       "      <td>Mine_Type_Refuse</td>\n",
       "      <td>0.001853</td>\n",
       "    </tr>\n",
       "    <tr>\n",
       "      <th>12</th>\n",
       "      <td>Operating_Company_Powellton Coal Company</td>\n",
       "      <td>0.001831</td>\n",
       "    </tr>\n",
       "    <tr>\n",
       "      <th>13</th>\n",
       "      <td>Operating_Company_Amfire Mining Company Llc</td>\n",
       "      <td>0.001762</td>\n",
       "    </tr>\n",
       "    <tr>\n",
       "      <th>14</th>\n",
       "      <td>Company_Type_Contractor</td>\n",
       "      <td>0.001731</td>\n",
       "    </tr>\n",
       "    <tr>\n",
       "      <th>15</th>\n",
       "      <td>Mine_County_Harlan</td>\n",
       "      <td>0.001691</td>\n",
       "    </tr>\n",
       "    <tr>\n",
       "      <th>16</th>\n",
       "      <td>Mine_County_Allegheny</td>\n",
       "      <td>0.001630</td>\n",
       "    </tr>\n",
       "    <tr>\n",
       "      <th>17</th>\n",
       "      <td>Mine_County_Knox</td>\n",
       "      <td>0.001511</td>\n",
       "    </tr>\n",
       "    <tr>\n",
       "      <th>18</th>\n",
       "      <td>Mine_State_Kentucky (East)</td>\n",
       "      <td>0.001449</td>\n",
       "    </tr>\n",
       "    <tr>\n",
       "      <th>19</th>\n",
       "      <td>Mine_County_Fayette</td>\n",
       "      <td>0.001429</td>\n",
       "    </tr>\n",
       "  </tbody>\n",
       "</table>\n",
       "</div>"
      ],
      "text/plain": [
       "                                              name  importance\n",
       "0                                      Labor_Hours    0.782168\n",
       "1                                Average_Employees    0.100436\n",
       "2                             Mine_County_Campbell    0.009889\n",
       "3                                Mine_Type_Surface    0.007389\n",
       "4       Company_Type_Independent Producer Operator    0.003746\n",
       "5         Operating_Company_Resources Limited, Llc    0.002745\n",
       "6                       Mine_State_Refuse Recovery    0.002719\n",
       "7         Operating_Company_Consol Of Kentucky Inc    0.002641\n",
       "8                                Mine_County_Mingo    0.002248\n",
       "9   Mine_Status_Active, men working, not producing    0.002247\n",
       "10              Operating_Company_Evans Coal Corp.    0.002175\n",
       "11                                Mine_Type_Refuse    0.001853\n",
       "12        Operating_Company_Powellton Coal Company    0.001831\n",
       "13     Operating_Company_Amfire Mining Company Llc    0.001762\n",
       "14                         Company_Type_Contractor    0.001731\n",
       "15                              Mine_County_Harlan    0.001691\n",
       "16                           Mine_County_Allegheny    0.001630\n",
       "17                                Mine_County_Knox    0.001511\n",
       "18                      Mine_State_Kentucky (East)    0.001449\n",
       "19                             Mine_County_Fayette    0.001429"
      ]
     },
     "execution_count": 26,
     "metadata": {},
     "output_type": "execute_result"
    }
   ],
   "source": [
    "rf_importances = pd.DataFrame({\n",
    "    'name': train[features + dummy_categoricals].columns,\n",
    "    'importance': rf.feature_importances_\n",
    "}).sort_values(by='importance', ascending=False).reset_index(drop=True)\n",
    "\n",
    "rf_importances.head(20)"
   ]
  },
  {
   "cell_type": "code",
   "execution_count": null,
   "metadata": {},
   "outputs": [],
   "source": []
  }
 ],
 "metadata": {
  "kernelspec": {
   "display_name": "Python 3",
   "language": "python",
   "name": "python3"
  },
  "language_info": {
   "codemirror_mode": {
    "name": "ipython",
    "version": 3
   },
   "file_extension": ".py",
   "mimetype": "text/x-python",
   "name": "python",
   "nbconvert_exporter": "python",
   "pygments_lexer": "ipython3",
   "version": "3.7.3"
  },
  "toc": {
   "base_numbering": 1,
   "nav_menu": {},
   "number_sections": true,
   "sideBar": true,
   "skip_h1_title": false,
   "title_cell": "Table of Contents",
   "title_sidebar": "Contents",
   "toc_cell": false,
   "toc_position": {},
   "toc_section_display": true,
   "toc_window_display": false
  },
  "varInspector": {
   "cols": {
    "lenName": 16,
    "lenType": 16,
    "lenVar": 40
   },
   "kernels_config": {
    "python": {
     "delete_cmd_postfix": "",
     "delete_cmd_prefix": "del ",
     "library": "var_list.py",
     "varRefreshCmd": "print(var_dic_list())"
    },
    "r": {
     "delete_cmd_postfix": ") ",
     "delete_cmd_prefix": "rm(",
     "library": "var_list.r",
     "varRefreshCmd": "cat(var_dic_list()) "
    }
   },
   "types_to_exclude": [
    "module",
    "function",
    "builtin_function_or_method",
    "instance",
    "_Feature"
   ],
   "window_display": false
  }
 },
 "nbformat": 4,
 "nbformat_minor": 2
}
