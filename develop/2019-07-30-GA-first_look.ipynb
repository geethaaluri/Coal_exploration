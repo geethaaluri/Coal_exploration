{
 "cells": [
  {
   "cell_type": "code",
   "execution_count": 25,
   "metadata": {
    "ExecuteTime": {
     "end_time": "2019-07-30T17:59:39.305111Z",
     "start_time": "2019-07-30T17:59:39.301121Z"
    }
   },
   "outputs": [],
   "source": [
    "%matplotlib inline\n",
    "import numpy as np\n",
    "import matplotlib.pyplot as plt\n",
    "import pandas as pd\n",
    "import seaborn as sns\n",
    "sns.set();"
   ]
  },
  {
   "cell_type": "code",
   "execution_count": 5,
   "metadata": {
    "ExecuteTime": {
     "end_time": "2019-07-30T17:40:14.039974Z",
     "start_time": "2019-07-30T17:40:13.968168Z"
    }
   },
   "outputs": [
    {
     "data": {
      "text/html": [
       "<div>\n",
       "<style scoped>\n",
       "    .dataframe tbody tr th:only-of-type {\n",
       "        vertical-align: middle;\n",
       "    }\n",
       "\n",
       "    .dataframe tbody tr th {\n",
       "        vertical-align: top;\n",
       "    }\n",
       "\n",
       "    .dataframe thead th {\n",
       "        text-align: right;\n",
       "    }\n",
       "</style>\n",
       "<table border=\"1\" class=\"dataframe\">\n",
       "  <thead>\n",
       "    <tr style=\"text-align: right;\">\n",
       "      <th></th>\n",
       "      <th>Year</th>\n",
       "      <th>Mine Name</th>\n",
       "      <th>Mine State</th>\n",
       "      <th>Mine County</th>\n",
       "      <th>Mine Basin</th>\n",
       "      <th>Mine Status</th>\n",
       "      <th>Mine Type</th>\n",
       "      <th>Company Type</th>\n",
       "      <th>Operation Type</th>\n",
       "      <th>Operating Company</th>\n",
       "      <th>Operating Company Address</th>\n",
       "      <th>Union Code</th>\n",
       "      <th>Production (short tons)</th>\n",
       "      <th>Average Employees</th>\n",
       "      <th>Labor Hours</th>\n",
       "    </tr>\n",
       "    <tr>\n",
       "      <th>MSHA ID</th>\n",
       "      <th></th>\n",
       "      <th></th>\n",
       "      <th></th>\n",
       "      <th></th>\n",
       "      <th></th>\n",
       "      <th></th>\n",
       "      <th></th>\n",
       "      <th></th>\n",
       "      <th></th>\n",
       "      <th></th>\n",
       "      <th></th>\n",
       "      <th></th>\n",
       "      <th></th>\n",
       "      <th></th>\n",
       "      <th></th>\n",
       "    </tr>\n",
       "  </thead>\n",
       "  <tbody>\n",
       "    <tr>\n",
       "      <th>103335</th>\n",
       "      <td>2010</td>\n",
       "      <td>Thompson South Mine</td>\n",
       "      <td>Alabama</td>\n",
       "      <td>Bibb</td>\n",
       "      <td>Appalachia Southern</td>\n",
       "      <td>Active</td>\n",
       "      <td>Surface</td>\n",
       "      <td>Indepedent Producer Operator</td>\n",
       "      <td>Mine only</td>\n",
       "      <td>M&amp;b Excavating Co., Inc., Llc</td>\n",
       "      <td>1001 Heflin Avenue West, Birmingham, AL 35214</td>\n",
       "      <td>NaN</td>\n",
       "      <td>103</td>\n",
       "      <td>1</td>\n",
       "      <td>30</td>\n",
       "    </tr>\n",
       "    <tr>\n",
       "      <th>103381</th>\n",
       "      <td>2010</td>\n",
       "      <td>Tacoa Highwall Miner</td>\n",
       "      <td>Alabama</td>\n",
       "      <td>Bibb</td>\n",
       "      <td>Appalachia Southern</td>\n",
       "      <td>Active</td>\n",
       "      <td>Surface</td>\n",
       "      <td>Indepedent Producer Operator</td>\n",
       "      <td>Mine only</td>\n",
       "      <td>Tacoa Minerals,llc</td>\n",
       "      <td>1669 Mission Hills Road, Alabaster, AL 35007</td>\n",
       "      <td>NaN</td>\n",
       "      <td>127564</td>\n",
       "      <td>13</td>\n",
       "      <td>33241</td>\n",
       "    </tr>\n",
       "    <tr>\n",
       "      <th>100787</th>\n",
       "      <td>2010</td>\n",
       "      <td>Rosa Mine</td>\n",
       "      <td>Alabama</td>\n",
       "      <td>Blount</td>\n",
       "      <td>Appalachia Southern</td>\n",
       "      <td>Active, men working, not producing</td>\n",
       "      <td>Surface</td>\n",
       "      <td>Indepedent Producer Operator</td>\n",
       "      <td>Preparation Plant</td>\n",
       "      <td>Mcoal Corporation</td>\n",
       "      <td>P.O. Box 1056, Oneonta, AL 35121</td>\n",
       "      <td>NaN</td>\n",
       "      <td>0</td>\n",
       "      <td>16</td>\n",
       "      <td>35020</td>\n",
       "    </tr>\n",
       "    <tr>\n",
       "      <th>103404</th>\n",
       "      <td>2010</td>\n",
       "      <td>Reid School Mine</td>\n",
       "      <td>Alabama</td>\n",
       "      <td>Blount</td>\n",
       "      <td>Appalachia Southern</td>\n",
       "      <td>Active</td>\n",
       "      <td>Surface</td>\n",
       "      <td>Indepedent Producer Operator</td>\n",
       "      <td>Mine only</td>\n",
       "      <td>Taft Coal Sales &amp; Associates,</td>\n",
       "      <td>107 N. Walston Bridge Road, Jasper, AL 35504</td>\n",
       "      <td>NaN</td>\n",
       "      <td>148994</td>\n",
       "      <td>32</td>\n",
       "      <td>76025</td>\n",
       "    </tr>\n",
       "    <tr>\n",
       "      <th>103117</th>\n",
       "      <td>2010</td>\n",
       "      <td>Mine #2, #3, #4</td>\n",
       "      <td>Alabama</td>\n",
       "      <td>Cullman</td>\n",
       "      <td>Appalachia Southern</td>\n",
       "      <td>Temporarily closed</td>\n",
       "      <td>Surface</td>\n",
       "      <td>Operating Subsidiary</td>\n",
       "      <td>Mine only</td>\n",
       "      <td>Evergreen Mining, Llc</td>\n",
       "      <td>74 Indutrial Parkway, Jasper, AL 35001</td>\n",
       "      <td>NaN</td>\n",
       "      <td>69035</td>\n",
       "      <td>17</td>\n",
       "      <td>34365</td>\n",
       "    </tr>\n",
       "  </tbody>\n",
       "</table>\n",
       "</div>"
      ],
      "text/plain": [
       "         Year             Mine Name Mine State Mine County  \\\n",
       "MSHA ID                                                      \n",
       "103335   2010   Thompson South Mine    Alabama        Bibb   \n",
       "103381   2010  Tacoa Highwall Miner    Alabama        Bibb   \n",
       "100787   2010             Rosa Mine    Alabama      Blount   \n",
       "103404   2010      Reid School Mine    Alabama      Blount   \n",
       "103117   2010       Mine #2, #3, #4    Alabama     Cullman   \n",
       "\n",
       "                  Mine Basin                         Mine Status Mine Type  \\\n",
       "MSHA ID                                                                      \n",
       "103335   Appalachia Southern                              Active   Surface   \n",
       "103381   Appalachia Southern                              Active   Surface   \n",
       "100787   Appalachia Southern  Active, men working, not producing   Surface   \n",
       "103404   Appalachia Southern                              Active   Surface   \n",
       "103117   Appalachia Southern                  Temporarily closed   Surface   \n",
       "\n",
       "                         Company Type     Operation Type  \\\n",
       "MSHA ID                                                    \n",
       "103335   Indepedent Producer Operator          Mine only   \n",
       "103381   Indepedent Producer Operator          Mine only   \n",
       "100787   Indepedent Producer Operator  Preparation Plant   \n",
       "103404   Indepedent Producer Operator          Mine only   \n",
       "103117           Operating Subsidiary          Mine only   \n",
       "\n",
       "                     Operating Company  \\\n",
       "MSHA ID                                  \n",
       "103335   M&b Excavating Co., Inc., Llc   \n",
       "103381              Tacoa Minerals,llc   \n",
       "100787               Mcoal Corporation   \n",
       "103404   Taft Coal Sales & Associates,   \n",
       "103117           Evergreen Mining, Llc   \n",
       "\n",
       "                             Operating Company Address Union Code  \\\n",
       "MSHA ID                                                             \n",
       "103335   1001 Heflin Avenue West, Birmingham, AL 35214        NaN   \n",
       "103381    1669 Mission Hills Road, Alabaster, AL 35007        NaN   \n",
       "100787                P.O. Box 1056, Oneonta, AL 35121        NaN   \n",
       "103404    107 N. Walston Bridge Road, Jasper, AL 35504        NaN   \n",
       "103117          74 Indutrial Parkway, Jasper, AL 35001        NaN   \n",
       "\n",
       "         Production (short tons)  Average Employees  Labor Hours  \n",
       "MSHA ID                                                           \n",
       "103335                       103                  1           30  \n",
       "103381                    127564                 13        33241  \n",
       "100787                         0                 16        35020  \n",
       "103404                    148994                 32        76025  \n",
       "103117                     69035                 17        34365  "
      ]
     },
     "execution_count": 5,
     "metadata": {},
     "output_type": "execute_result"
    }
   ],
   "source": [
    "df = pd.read_excel('../data/coalpublic2010.xls', header=3, index_col='MSHA ID')\n",
    "df.head()"
   ]
  },
  {
   "cell_type": "code",
   "execution_count": 6,
   "metadata": {
    "ExecuteTime": {
     "end_time": "2019-07-30T17:42:02.017779Z",
     "start_time": "2019-07-30T17:42:02.013761Z"
    }
   },
   "outputs": [
    {
     "data": {
      "text/plain": [
       "array(['Indepedent Producer Operator', 'Operating Subsidiary',\n",
       "       'Contractor'], dtype=object)"
      ]
     },
     "execution_count": 6,
     "metadata": {},
     "output_type": "execute_result"
    }
   ],
   "source": [
    "df['Company Type'].unique()"
   ]
  },
  {
   "cell_type": "code",
   "execution_count": 7,
   "metadata": {
    "ExecuteTime": {
     "end_time": "2019-07-30T17:46:00.574041Z",
     "start_time": "2019-07-30T17:46:00.570023Z"
    }
   },
   "outputs": [],
   "source": [
    "df['Company Type'].replace(to_replace = 'Indepedent Producer Operator', \n",
    "                           value = 'Independent Producer Operator',\n",
    "                          inplace = True)"
   ]
  },
  {
   "cell_type": "code",
   "execution_count": 8,
   "metadata": {
    "ExecuteTime": {
     "end_time": "2019-07-30T17:46:43.041659Z",
     "start_time": "2019-07-30T17:46:43.036672Z"
    }
   },
   "outputs": [
    {
     "data": {
      "text/plain": [
       "array(['Independent Producer Operator', 'Operating Subsidiary',\n",
       "       'Contractor'], dtype=object)"
      ]
     },
     "execution_count": 8,
     "metadata": {},
     "output_type": "execute_result"
    }
   ],
   "source": [
    "df['Company Type'].unique()"
   ]
  },
  {
   "cell_type": "code",
   "execution_count": 9,
   "metadata": {
    "ExecuteTime": {
     "end_time": "2019-07-30T17:48:29.738121Z",
     "start_time": "2019-07-30T17:48:29.734131Z"
    }
   },
   "outputs": [],
   "source": [
    "df.rename(columns = lambda x: x.replace(' ', '_'), inplace=True)"
   ]
  },
  {
   "cell_type": "code",
   "execution_count": 10,
   "metadata": {
    "ExecuteTime": {
     "end_time": "2019-07-30T17:48:33.988799Z",
     "start_time": "2019-07-30T17:48:33.978822Z"
    }
   },
   "outputs": [
    {
     "data": {
      "text/html": [
       "<div>\n",
       "<style scoped>\n",
       "    .dataframe tbody tr th:only-of-type {\n",
       "        vertical-align: middle;\n",
       "    }\n",
       "\n",
       "    .dataframe tbody tr th {\n",
       "        vertical-align: top;\n",
       "    }\n",
       "\n",
       "    .dataframe thead th {\n",
       "        text-align: right;\n",
       "    }\n",
       "</style>\n",
       "<table border=\"1\" class=\"dataframe\">\n",
       "  <thead>\n",
       "    <tr style=\"text-align: right;\">\n",
       "      <th></th>\n",
       "      <th>Year</th>\n",
       "      <th>Mine_Name</th>\n",
       "      <th>Mine_State</th>\n",
       "      <th>Mine_County</th>\n",
       "      <th>Mine_Basin</th>\n",
       "      <th>Mine_Status</th>\n",
       "      <th>Mine_Type</th>\n",
       "      <th>Company_Type</th>\n",
       "      <th>Operation_Type</th>\n",
       "      <th>Operating_Company</th>\n",
       "      <th>Operating_Company_Address</th>\n",
       "      <th>Union_Code</th>\n",
       "      <th>Production_(short_tons)</th>\n",
       "      <th>Average_Employees</th>\n",
       "      <th>Labor_Hours</th>\n",
       "    </tr>\n",
       "    <tr>\n",
       "      <th>MSHA ID</th>\n",
       "      <th></th>\n",
       "      <th></th>\n",
       "      <th></th>\n",
       "      <th></th>\n",
       "      <th></th>\n",
       "      <th></th>\n",
       "      <th></th>\n",
       "      <th></th>\n",
       "      <th></th>\n",
       "      <th></th>\n",
       "      <th></th>\n",
       "      <th></th>\n",
       "      <th></th>\n",
       "      <th></th>\n",
       "      <th></th>\n",
       "    </tr>\n",
       "  </thead>\n",
       "  <tbody>\n",
       "    <tr>\n",
       "      <th>103335</th>\n",
       "      <td>2010</td>\n",
       "      <td>Thompson South Mine</td>\n",
       "      <td>Alabama</td>\n",
       "      <td>Bibb</td>\n",
       "      <td>Appalachia Southern</td>\n",
       "      <td>Active</td>\n",
       "      <td>Surface</td>\n",
       "      <td>Independent Producer Operator</td>\n",
       "      <td>Mine only</td>\n",
       "      <td>M&amp;b Excavating Co., Inc., Llc</td>\n",
       "      <td>1001 Heflin Avenue West, Birmingham, AL 35214</td>\n",
       "      <td>NaN</td>\n",
       "      <td>103</td>\n",
       "      <td>1</td>\n",
       "      <td>30</td>\n",
       "    </tr>\n",
       "    <tr>\n",
       "      <th>103381</th>\n",
       "      <td>2010</td>\n",
       "      <td>Tacoa Highwall Miner</td>\n",
       "      <td>Alabama</td>\n",
       "      <td>Bibb</td>\n",
       "      <td>Appalachia Southern</td>\n",
       "      <td>Active</td>\n",
       "      <td>Surface</td>\n",
       "      <td>Independent Producer Operator</td>\n",
       "      <td>Mine only</td>\n",
       "      <td>Tacoa Minerals,llc</td>\n",
       "      <td>1669 Mission Hills Road, Alabaster, AL 35007</td>\n",
       "      <td>NaN</td>\n",
       "      <td>127564</td>\n",
       "      <td>13</td>\n",
       "      <td>33241</td>\n",
       "    </tr>\n",
       "    <tr>\n",
       "      <th>100787</th>\n",
       "      <td>2010</td>\n",
       "      <td>Rosa Mine</td>\n",
       "      <td>Alabama</td>\n",
       "      <td>Blount</td>\n",
       "      <td>Appalachia Southern</td>\n",
       "      <td>Active, men working, not producing</td>\n",
       "      <td>Surface</td>\n",
       "      <td>Independent Producer Operator</td>\n",
       "      <td>Preparation Plant</td>\n",
       "      <td>Mcoal Corporation</td>\n",
       "      <td>P.O. Box 1056, Oneonta, AL 35121</td>\n",
       "      <td>NaN</td>\n",
       "      <td>0</td>\n",
       "      <td>16</td>\n",
       "      <td>35020</td>\n",
       "    </tr>\n",
       "    <tr>\n",
       "      <th>103404</th>\n",
       "      <td>2010</td>\n",
       "      <td>Reid School Mine</td>\n",
       "      <td>Alabama</td>\n",
       "      <td>Blount</td>\n",
       "      <td>Appalachia Southern</td>\n",
       "      <td>Active</td>\n",
       "      <td>Surface</td>\n",
       "      <td>Independent Producer Operator</td>\n",
       "      <td>Mine only</td>\n",
       "      <td>Taft Coal Sales &amp; Associates,</td>\n",
       "      <td>107 N. Walston Bridge Road, Jasper, AL 35504</td>\n",
       "      <td>NaN</td>\n",
       "      <td>148994</td>\n",
       "      <td>32</td>\n",
       "      <td>76025</td>\n",
       "    </tr>\n",
       "    <tr>\n",
       "      <th>103117</th>\n",
       "      <td>2010</td>\n",
       "      <td>Mine #2, #3, #4</td>\n",
       "      <td>Alabama</td>\n",
       "      <td>Cullman</td>\n",
       "      <td>Appalachia Southern</td>\n",
       "      <td>Temporarily closed</td>\n",
       "      <td>Surface</td>\n",
       "      <td>Operating Subsidiary</td>\n",
       "      <td>Mine only</td>\n",
       "      <td>Evergreen Mining, Llc</td>\n",
       "      <td>74 Indutrial Parkway, Jasper, AL 35001</td>\n",
       "      <td>NaN</td>\n",
       "      <td>69035</td>\n",
       "      <td>17</td>\n",
       "      <td>34365</td>\n",
       "    </tr>\n",
       "  </tbody>\n",
       "</table>\n",
       "</div>"
      ],
      "text/plain": [
       "         Year             Mine_Name Mine_State Mine_County  \\\n",
       "MSHA ID                                                      \n",
       "103335   2010   Thompson South Mine    Alabama        Bibb   \n",
       "103381   2010  Tacoa Highwall Miner    Alabama        Bibb   \n",
       "100787   2010             Rosa Mine    Alabama      Blount   \n",
       "103404   2010      Reid School Mine    Alabama      Blount   \n",
       "103117   2010       Mine #2, #3, #4    Alabama     Cullman   \n",
       "\n",
       "                  Mine_Basin                         Mine_Status Mine_Type  \\\n",
       "MSHA ID                                                                      \n",
       "103335   Appalachia Southern                              Active   Surface   \n",
       "103381   Appalachia Southern                              Active   Surface   \n",
       "100787   Appalachia Southern  Active, men working, not producing   Surface   \n",
       "103404   Appalachia Southern                              Active   Surface   \n",
       "103117   Appalachia Southern                  Temporarily closed   Surface   \n",
       "\n",
       "                          Company_Type     Operation_Type  \\\n",
       "MSHA ID                                                     \n",
       "103335   Independent Producer Operator          Mine only   \n",
       "103381   Independent Producer Operator          Mine only   \n",
       "100787   Independent Producer Operator  Preparation Plant   \n",
       "103404   Independent Producer Operator          Mine only   \n",
       "103117            Operating Subsidiary          Mine only   \n",
       "\n",
       "                     Operating_Company  \\\n",
       "MSHA ID                                  \n",
       "103335   M&b Excavating Co., Inc., Llc   \n",
       "103381              Tacoa Minerals,llc   \n",
       "100787               Mcoal Corporation   \n",
       "103404   Taft Coal Sales & Associates,   \n",
       "103117           Evergreen Mining, Llc   \n",
       "\n",
       "                             Operating_Company_Address Union_Code  \\\n",
       "MSHA ID                                                             \n",
       "103335   1001 Heflin Avenue West, Birmingham, AL 35214        NaN   \n",
       "103381    1669 Mission Hills Road, Alabaster, AL 35007        NaN   \n",
       "100787                P.O. Box 1056, Oneonta, AL 35121        NaN   \n",
       "103404    107 N. Walston Bridge Road, Jasper, AL 35504        NaN   \n",
       "103117          74 Indutrial Parkway, Jasper, AL 35001        NaN   \n",
       "\n",
       "         Production_(short_tons)  Average_Employees  Labor_Hours  \n",
       "MSHA ID                                                           \n",
       "103335                       103                  1           30  \n",
       "103381                    127564                 13        33241  \n",
       "100787                         0                 16        35020  \n",
       "103404                    148994                 32        76025  \n",
       "103117                     69035                 17        34365  "
      ]
     },
     "execution_count": 10,
     "metadata": {},
     "output_type": "execute_result"
    }
   ],
   "source": [
    "df.head()"
   ]
  },
  {
   "cell_type": "code",
   "execution_count": 11,
   "metadata": {
    "ExecuteTime": {
     "end_time": "2019-07-30T17:49:34.273426Z",
     "start_time": "2019-07-30T17:49:34.269436Z"
    }
   },
   "outputs": [
    {
     "data": {
      "text/plain": [
       "1752"
      ]
     },
     "execution_count": 11,
     "metadata": {},
     "output_type": "execute_result"
    }
   ],
   "source": [
    "len(df)"
   ]
  },
  {
   "cell_type": "code",
   "execution_count": 13,
   "metadata": {
    "ExecuteTime": {
     "end_time": "2019-07-30T17:51:21.849940Z",
     "start_time": "2019-07-30T17:51:21.737254Z"
    }
   },
   "outputs": [
    {
     "data": {
      "text/plain": [
       "Text(0, 0.5, 'Total Hours Worked')"
      ]
     },
     "execution_count": 13,
     "metadata": {},
     "output_type": "execute_result"
    },
    {
     "data": {
      "image/png": "[encoded data removed]",
      "text/plain": [
       "<Figure size 432x288 with 1 Axes>"
      ]
     },
     "metadata": {},
     "output_type": "display_data"
    }
   ],
   "source": [
    "plt.scatter(df.Average_Employees, df.Labor_Hours)\n",
    "plt.xlabel('Number of Employees')\n",
    "plt.ylabel('Total Hours Worked')"
   ]
  },
  {
   "cell_type": "code",
   "execution_count": 15,
   "metadata": {
    "ExecuteTime": {
     "end_time": "2019-07-30T17:53:50.097779Z",
     "start_time": "2019-07-30T17:53:49.845949Z"
    }
   },
   "outputs": [
    {
     "data": {
      "image/png": "[encoded data removed]",
      "text/plain": [
       "<Figure size 432x288 with 1 Axes>"
      ]
     },
     "metadata": {},
     "output_type": "display_data"
    }
   ],
   "source": [
    "sns.regplot(df.Average_Employees, df.Labor_Hours)\n",
    "plt.savefig('../figures/2019-07-30'+'-employees_vs_hours.png')"
   ]
  },
  {
   "cell_type": "code",
   "execution_count": 17,
   "metadata": {
    "ExecuteTime": {
     "end_time": "2019-07-30T17:54:52.356361Z",
     "start_time": "2019-07-30T17:54:52.353369Z"
    }
   },
   "outputs": [
    {
     "name": "stdout",
     "output_type": "stream",
     "text": [
      "Year\n",
      "Mine_Name\n",
      "Mine_State\n",
      "Mine_County\n",
      "Mine_Basin\n",
      "Mine_Status\n",
      "Mine_Type\n",
      "Company_Type\n",
      "Operation_Type\n",
      "Operating_Company\n",
      "Operating_Company_Address\n",
      "Union_Code\n",
      "Production_(short_tons)\n",
      "Average_Employees\n",
      "Labor_Hours\n"
     ]
    }
   ],
   "source": [
    "for col in df.columns:\n",
    "    print (col)"
   ]
  },
  {
   "cell_type": "code",
   "execution_count": 18,
   "metadata": {
    "ExecuteTime": {
     "end_time": "2019-07-30T17:55:16.292321Z",
     "start_time": "2019-07-30T17:55:16.288305Z"
    }
   },
   "outputs": [
    {
     "data": {
      "text/plain": [
       "Index(['Year', 'Mine_Name', 'Mine_State', 'Mine_County', 'Mine_Basin',\n",
       "       'Mine_Status', 'Mine_Type', 'Company_Type', 'Operation_Type',\n",
       "       'Operating_Company', 'Operating_Company_Address', 'Union_Code',\n",
       "       'Production_(short_tons)', 'Average_Employees', 'Labor_Hours'],\n",
       "      dtype='object')"
      ]
     },
     "execution_count": 18,
     "metadata": {},
     "output_type": "execute_result"
    }
   ],
   "source": [
    "df.columns"
   ]
  },
  {
   "cell_type": "code",
   "execution_count": 19,
   "metadata": {
    "ExecuteTime": {
     "end_time": "2019-07-30T17:56:47.929369Z",
     "start_time": "2019-07-30T17:56:47.825618Z"
    }
   },
   "outputs": [
    {
     "data": {
      "text/plain": [
       "<matplotlib.collections.PathCollection at 0x179da948748>"
      ]
     },
     "execution_count": 19,
     "metadata": {},
     "output_type": "execute_result"
    },
    {
     "data": {
      "image/png": "[encoded data removed]",
      "text/plain": [
       "<Figure size 432x288 with 1 Axes>"
      ]
     },
     "metadata": {},
     "output_type": "display_data"
    }
   ],
   "source": [
    "plt.scatter(df.Labor_Hours, df['Production_(short_tons)'])"
   ]
  },
  {
   "cell_type": "code",
   "execution_count": 20,
   "metadata": {
    "ExecuteTime": {
     "end_time": "2019-07-30T17:57:13.178854Z",
     "start_time": "2019-07-30T17:57:13.081079Z"
    }
   },
   "outputs": [
    {
     "data": {
      "text/plain": [
       "<matplotlib.axes._subplots.AxesSubplot at 0x179d974f550>"
      ]
     },
     "execution_count": 20,
     "metadata": {},
     "output_type": "execute_result"
    },
    {
     "data": {
      "image/png": "[encoded data removed]",
      "text/plain": [
       "<Figure size 432x288 with 1 Axes>"
      ]
     },
     "metadata": {},
     "output_type": "display_data"
    }
   ],
   "source": [
    "df['Production_(short_tons)'].hist()"
   ]
  },
  {
   "cell_type": "code",
   "execution_count": 23,
   "metadata": {
    "ExecuteTime": {
     "end_time": "2019-07-30T17:58:51.815166Z",
     "start_time": "2019-07-30T17:58:51.811150Z"
    }
   },
   "outputs": [],
   "source": [
    "# We are removing data here!\n",
    "df = df[df['Production_(short_tons)'] > 0]"
   ]
  },
  {
   "cell_type": "code",
   "execution_count": 26,
   "metadata": {
    "ExecuteTime": {
     "end_time": "2019-07-30T18:00:44.975624Z",
     "start_time": "2019-07-30T18:00:44.588580Z"
    }
   },
   "outputs": [],
   "source": [
    "df['log_production']= np.log(df['Production_(short_tons)'])"
   ]
  },
  {
   "cell_type": "code",
   "execution_count": 27,
   "metadata": {
    "ExecuteTime": {
     "end_time": "2019-07-30T18:01:00.816254Z",
     "start_time": "2019-07-30T18:01:00.716493Z"
    }
   },
   "outputs": [
    {
     "data": {
      "text/plain": [
       "<matplotlib.axes._subplots.AxesSubplot at 0x179d8baa978>"
      ]
     },
     "execution_count": 27,
     "metadata": {},
     "output_type": "execute_result"
    },
    {
     "data": {
      "image/png": "[encoded data removed]",
      "text/plain": [
       "<Figure size 432x288 with 1 Axes>"
      ]
     },
     "metadata": {},
     "output_type": "display_data"
    }
   ],
   "source": [
    "df.log_production.hist()"
   ]
  },
  {
   "cell_type": "code",
   "execution_count": 28,
   "metadata": {
    "ExecuteTime": {
     "end_time": "2019-07-30T18:02:43.070275Z",
     "start_time": "2019-07-30T18:02:43.048333Z"
    }
   },
   "outputs": [],
   "source": [
    "df.to_csv('../data/cleaned_coalpublic2010.csv')"
   ]
  },
  {
   "cell_type": "code",
   "execution_count": null,
   "metadata": {},
   "outputs": [],
   "source": []
  }
 ],
 "metadata": {
  "kernelspec": {
   "display_name": "Python 3",
   "language": "python",
   "name": "python3"
  },
  "language_info": {
   "codemirror_mode": {
    "name": "ipython",
    "version": 3
   },
   "file_extension": ".py",
   "mimetype": "text/x-python",
   "name": "python",
   "nbconvert_exporter": "python",
   "pygments_lexer": "ipython3",
   "version": "3.7.3"
  },
  "toc": {
   "base_numbering": 1,
   "nav_menu": {},
   "number_sections": true,
   "sideBar": true,
   "skip_h1_title": false,
   "title_cell": "Table of Contents",
   "title_sidebar": "Contents",
   "toc_cell": false,
   "toc_position": {},
   "toc_section_display": true,
   "toc_window_display": false
  },
  "varInspector": {
   "cols": {
    "lenName": 16,
    "lenType": 16,
    "lenVar": 40
   },
   "kernels_config": {
    "python": {
     "delete_cmd_postfix": "",
     "delete_cmd_prefix": "del ",
     "library": "var_list.py",
     "varRefreshCmd": "print(var_dic_list())"
    },
    "r": {
     "delete_cmd_postfix": ") ",
     "delete_cmd_prefix": "rm(",
     "library": "var_list.r",
     "varRefreshCmd": "cat(var_dic_list()) "
    }
   },
   "types_to_exclude": [
    "module",
    "function",
    "builtin_function_or_method",
    "instance",
    "_Feature"
   ],
   "window_display": false
  }
 },
 "nbformat": 4,
 "nbformat_minor": 2
}
